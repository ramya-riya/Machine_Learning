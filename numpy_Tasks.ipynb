{
  "cells": [
    {
      "cell_type": "markdown",
      "source": [
        "# **Numpy(Basics)**"
      ],
      "metadata": {
        "id": "B9t0UoafBiRT"
      },
      "id": "B9t0UoafBiRT"
    },
    {
      "cell_type": "code",
      "execution_count": null,
      "id": "45bc74aa",
      "metadata": {
        "id": "45bc74aa",
        "outputId": "12ed67ad-79ab-403f-c1c8-0f36ad70f0ef"
      },
      "outputs": [
        {
          "name": "stdout",
          "output_type": "stream",
          "text": [
            "Array=  [10, 20, 30, 50, 70]\n",
            "Modifying Array:  [10, 20, 55, 70, 80]\n"
          ]
        }
      ],
      "source": [
        "#Creating and modifying an array\n",
        "arr=[10,20,30,50,70]\n",
        "print(\"Array= \",arr)\n",
        "arr.append(80)\n",
        "arr[3]=55\n",
        "arr.remove(30)\n",
        "print(\"Modifying Array: \",arr)"
      ]
    },
    {
      "cell_type": "code",
      "execution_count": null,
      "id": "c9de9314",
      "metadata": {
        "id": "c9de9314",
        "outputId": "474b67e8-fbfd-4412-988b-e0e0b9509163"
      },
      "outputs": [
        {
          "name": "stdout",
          "output_type": "stream",
          "text": [
            "Minimum Value:  10\n",
            "Maximum Value:  320\n",
            "Mean Value:  95.0\n"
          ]
        }
      ],
      "source": [
        "#Finding Min,Max and Mean\n",
        "import numpy as np\n",
        "arr=np.array([10,50,40,70,80,320])\n",
        "print(\"Minimum Value: \",np.min(arr))\n",
        "print(\"Maximum Value: \",np.max(arr))\n",
        "print(\"Mean Value: \",np.mean(arr))"
      ]
    },
    {
      "cell_type": "code",
      "execution_count": null,
      "id": "b63d8142",
      "metadata": {
        "id": "b63d8142",
        "outputId": "26635be7-97d7-4a70-9e97-8c8086b18305"
      },
      "outputs": [
        {
          "name": "stdout",
          "output_type": "stream",
          "text": [
            "[[10 23 36]\n",
            " [45 58 61]]\n",
            "[10 23 36 45 58 61]\n"
          ]
        }
      ],
      "source": [
        "#Reshaping and flattening an array\n",
        "import numpy as np\n",
        "arr = np.array([10,23,36,45,58,61])\n",
        "reshaped=arr.reshape(2, 3)\n",
        "print(reshaped)\n",
        "flattened=reshaped.flatten()\n",
        "print(flattened)"
      ]
    },
    {
      "cell_type": "code",
      "execution_count": null,
      "id": "93004490",
      "metadata": {
        "id": "93004490",
        "outputId": "a630ab28-42fb-40a2-8dca-5d5da427ad5e"
      },
      "outputs": [
        {
          "name": "stdout",
          "output_type": "stream",
          "text": [
            "\n",
            "Array 1:\n",
            " [[1 2]\n",
            " [3 4]]\n",
            "\n",
            "Array 2:\n",
            " [[5 6]\n",
            " [7 8]]\n",
            "\n",
            "Vertically Stacked:\n",
            " [[1 2]\n",
            " [3 4]\n",
            " [5 6]\n",
            " [7 8]]\n",
            "\n",
            "Horizontally Stacked:\n",
            " [[1 2 5 6]\n",
            " [3 4 7 8]]\n"
          ]
        }
      ],
      "source": [
        "#create 2*2 arrays and stack them vertical and horizontal\n",
        "import numpy as np\n",
        "arr1 = np.array([[1,2], [3,4]])\n",
        "arr2 = np.array([[5,6], [7,8]])\n",
        "vertical= np.vstack((arr1, arr2))\n",
        "horizontal= np.hstack((arr1, arr2))\n",
        "print(\"\\nArray 1:\\n\", arr1)\n",
        "print(\"\\nArray 2:\\n\", arr2)\n",
        "print(\"\\nVertically Stacked:\\n\", vertical)\n",
        "print(\"\\nHorizontally Stacked:\\n\", horizontal)"
      ]
    },
    {
      "cell_type": "code",
      "execution_count": null,
      "id": "2badb75c",
      "metadata": {
        "id": "2badb75c",
        "outputId": "5fe9e22b-a4c7-45cf-d811-f3ba90ca9d04"
      },
      "outputs": [
        {
          "name": "stdout",
          "output_type": "stream",
          "text": [
            "[[1 2 3]\n",
            " [4 5 6]\n",
            " [7 8 9]]\n"
          ]
        }
      ],
      "source": [
        "#Convert 1D array of size 9 into 3*3 matrix\n",
        "import numpy as np\n",
        "arr=np.array([1, 2, 3, 4, 5, 6, 7, 8, 9])\n",
        "matrix=arr.reshape(3, 3)\n",
        "print(matrix)"
      ]
    },
    {
      "cell_type": "code",
      "execution_count": null,
      "id": "8e7912c7",
      "metadata": {
        "id": "8e7912c7",
        "outputId": "42896835-6f44-4f89-d12f-4fff2c3fd70d"
      },
      "outputs": [
        {
          "name": "stdout",
          "output_type": "stream",
          "text": [
            "Original Array: [ 1  2  3  4  5  6  7  8  9 10]\n",
            "Reversed Array: [10  9  8  7  6  5  4  3  2  1]\n"
          ]
        }
      ],
      "source": [
        "#create array from 1 to 10 & reverse it\n",
        "import numpy as np\n",
        "arr = np.arange(1, 11)\n",
        "reverse= arr[::-1]\n",
        "print(\"Original Array:\",arr)\n",
        "print(\"Reversed Array:\",reverse)"
      ]
    }
  ],
  "metadata": {
    "kernelspec": {
      "display_name": "Python 3 (ipykernel)",
      "language": "python",
      "name": "python3"
    },
    "language_info": {
      "codemirror_mode": {
        "name": "ipython",
        "version": 3
      },
      "file_extension": ".py",
      "mimetype": "text/x-python",
      "name": "python",
      "nbconvert_exporter": "python",
      "pygments_lexer": "ipython3",
      "version": "3.11.5"
    },
    "colab": {
      "provenance": []
    }
  },
  "nbformat": 4,
  "nbformat_minor": 5
}